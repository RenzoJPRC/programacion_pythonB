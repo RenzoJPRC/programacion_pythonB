{
  "nbformat": 4,
  "nbformat_minor": 0,
  "metadata": {
    "colab": {
      "provenance": [],
      "authorship_tag": "ABX9TyOYeh/J2DwrgIAn5RdS0fbf",
      "include_colab_link": true
    },
    "kernelspec": {
      "name": "python3",
      "display_name": "Python 3"
    },
    "language_info": {
      "name": "python"
    }
  },
  "cells": [
    {
      "cell_type": "markdown",
      "metadata": {
        "id": "view-in-github",
        "colab_type": "text"
      },
      "source": [
        "<a href=\"https://colab.research.google.com/github/RenzoJPRC/programacion_pythonB/blob/main/Trabajo_Final.ipynb\" target=\"_parent\"><img src=\"https://colab.research.google.com/assets/colab-badge.svg\" alt=\"Open In Colab\"/></a>"
      ]
    },
    {
      "cell_type": "markdown",
      "source": [
        "# Modulo 2"
      ],
      "metadata": {
        "id": "5CkJfQv7RQlE"
      }
    },
    {
      "cell_type": "markdown",
      "source": [
        "Ejercicio 1\n",
        "\n",
        "Escriba un ciclo que solicite al usuario que ingrese una serie de ingredientes para la pizza hasta que ingrese un valor de 'salir'. A medida que ingresen cada ingrediente, imprima un mensaje que diga que agregará ese ingrediente a su pizza."
      ],
      "metadata": {
        "id": "3yE58kagGHz0"
      }
    },
    {
      "cell_type": "code",
      "source": [
        "\"\"\"Pedimos que nos ingrese un ingredientet\"\"\"\n",
        "ingrediente = \"Ingrese el ingrediente que quiere añadir a su pizza: \"\n",
        "ingrediente += \"\\nEscribe 'salir' para finalizar.  \"\n",
        "\n",
        "message = \"\"\n",
        "while message != 'salir':\n",
        "  message = input(ingrediente)\n",
        "  print(f'Usted agregara {message} a su pizza.\\n')"
      ],
      "metadata": {
        "colab": {
          "base_uri": "https://localhost:8080/"
        },
        "id": "6QI0X-wCV6Tw",
        "outputId": "c9a4b8dd-7aa5-4333-c201-5bf7bd019245"
      },
      "execution_count": 26,
      "outputs": [
        {
          "output_type": "stream",
          "name": "stdout",
          "text": [
            "Ingrese el ingrediente que quiere añadir a su pizza: \n",
            "Escribe 'salir' para finalizar.  tomate\n",
            "Usted agregara tomate a su pizza.\n",
            "\n",
            "Ingrese el ingrediente que quiere añadir a su pizza: \n",
            "Escribe 'salir' para finalizar.  queso\n",
            "Usted agregara queso a su pizza.\n",
            "\n",
            "Ingrese el ingrediente que quiere añadir a su pizza: \n",
            "Escribe 'salir' para finalizar.  salir\n",
            "Usted agregara salir a su pizza.\n",
            "\n"
          ]
        }
      ]
    },
    {
      "cell_type": "markdown",
      "source": [
        "Ejercicio 2\n",
        "\n",
        "Un cine cobra diferentes precios de boletos dependiendo de la edad de una persona. Si una persona es menor de 3 años, la entrada es gratuita; si son entre 3 y 12, el boleto cuesta s/. 10; y si son mayores de 12 años, el boleto cuesta s/. 15. Escriba un ciclo en el que pregunte a los usuarios su edad y luego dígales el costo de su boleto de cine."
      ],
      "metadata": {
        "id": "1bgB1wmUGJ_T"
      }
    },
    {
      "cell_type": "code",
      "source": [
        "\"\"\"Precio de venta de las entradas para un Cine\"\"\"\n",
        "print(\"Bienvenido a CinePeru!!!! \\nDe acuerdo a su edad le dire el costo de su entrada\")\n",
        "edad = int(input(\"Cuantos años tienes: \"))\n",
        "if edad > 12:\n",
        "  print(f\"El costo de su entrada es de S/15.00; ya que usted tiene {edad} años.\")\n",
        "elif (edad <= 12) and (edad >=3):\n",
        "  print(\"El costo de su entrada es de S/10.00.\")\n",
        "elif edad<3:\n",
        "    print(\"Hola; usted puede entrar gratuitamente.\")\n",
        "print(\"Gracias por su preferencia y disfrute de la pelicula.\")"
      ],
      "metadata": {
        "colab": {
          "base_uri": "https://localhost:8080/"
        },
        "id": "RTQJ07OcRPDR",
        "outputId": "3e8634c8-ce45-4050-ffc1-a5cdcce6c7a2"
      },
      "execution_count": 28,
      "outputs": [
        {
          "output_type": "stream",
          "name": "stdout",
          "text": [
            "Bienvenido a CinePeru!!!! \n",
            "De acuerdo a su edad le dire el costo de su entrada\n",
            "Cuantos años tienes: 21\n",
            "El costo de su entrada es de S/15.00; ya que usted tiene 21 años.\n",
            "Gracias por su preferencia y disfrute de la pelicula.\n"
          ]
        }
      ]
    },
    {
      "cell_type": "markdown",
      "source": [
        "Ejercicio 3\n",
        "\n",
        "Piensa en al menos tres tipos de tu pizza favorita. Almacene estos nombres de pizza en una lista y luego use un ciclo for para imprimir el nombre de cada pizza.\n",
        "\n",
        "Modifique su ciclo for para imprimir una oración usando el nombre de la pizza en lugar de imprimir solo el nombre de la pizza. Para cada pizza, debe tener una línea de salida que contenga una declaración simple como Me gusta la pizza de pepperoni. Agregue una línea al final de su programa, fuera del bucle for, que indique cuánto le gusta la pizza. El resultado debe constar de tres o más líneas sobre los tipos de pizza que te gustan y luego una oración adicional, como ¡Me encanta la pizza!"
      ],
      "metadata": {
        "id": "EgtvL2faRIGB"
      }
    },
    {
      "cell_type": "code",
      "source": [
        "Nombres = [\"Americana\",\"Hawaiana\",\"Pepperoni\"]\n",
        "for i in Nombres:\n",
        "    print(\"Me gusta la pizza de \"+i)\n",
        "print(\"¡Me encanta la pizza!\")"
      ],
      "metadata": {
        "colab": {
          "base_uri": "https://localhost:8080/"
        },
        "id": "R61pHSbrZ2KK",
        "outputId": "ea5a8b3d-051b-43b0-aaad-9ae4d0c113ac"
      },
      "execution_count": 86,
      "outputs": [
        {
          "output_type": "stream",
          "name": "stdout",
          "text": [
            "Me gusta la pizza de Americana\n",
            "Me gusta la pizza de Hawaiana\n",
            "Me gusta la pizza de Pepperoni\n",
            "¡Me encanta la pizza!\n"
          ]
        }
      ]
    },
    {
      "cell_type": "markdown",
      "source": [
        "Ejercicio 4\n",
        "\n",
        "Piensa en al menos tres animales diferentes que tengan una característica común. Guarde los nombres de estos animales en una lista y luego use un ciclo for para imprimir el nombre de cada animal.\n",
        "\n",
        "Modifique su programa para imprimir una declaración sobre cada animal, como Un perro sería una gran mascota. Agregue una línea al final de su programa indicando lo que estos animales tienen en común. Podría escribir una oración como ¡Cualquiera de estos animales sería una gran mascota!"
      ],
      "metadata": {
        "id": "-cslj4XQRI5x"
      }
    },
    {
      "cell_type": "code",
      "source": [
        "print(\"Tenemos estos animales para escoger: \")\n",
        "my_list = [\"pez payaso\",\"pulpo\",\"tiburon\"]\n",
        "for i in my_list:\n",
        "  print (i)\n",
        "\n",
        "like = input(\"\\nIngrese el animal de su preferencia: \")\n",
        "if like == \"pez payaso\":\n",
        "  print(f\"El {like} es de estos animales que se pueden domesticar, a pesar de vivir en zonas rocosas y se la pasan mayormente ESCONDIDOS!!! \\n- Destaca por lo llamativo que son sus colores (naranaja, blanco y negro).\\n- En su etapa adulta puede llegar a medir hasta 11 cm. \\n\")\n",
        "elif like == \"pulpo\":\n",
        "  print(f\"El {like} es un animal salvaje; se llegan a encontrar en los oceanos (aguas saladas). \\n- Estos son encontrados en los corales debajo de las piedras, cuenta con 8 tentáculos alrededor de su boca.\\n- Se alimenta de otros peces, moluscos y crustaceos; pueden llegar a medir 5 metros y pesar 50 kg.\")\n",
        "elif like == \"tiburon\":\n",
        "  print(f\"El {like} es otro animal salvaje, se encuentra en los oceanos y tiene un cuerpo alargado. \\n- Tiene un esqueleto hecho de cartilagos, NO DE HUESOS. \\n- Se alimentan de peces, moluscos y curstaceos. \\n- Pueden a llegar a vivir entre 20 a 30 años de vida. \\n- ¿Que hacer si uno se encuentra a un tiburon?\\n  Debes tratar de mantener al animal a la vista y muy lenta y suavemente tratar de nadar hacia atrás y entrar en aguas poco profundas. Una vez más, debes tener cuidado pues los grandes tiburones pueden atacar en muy poca profundidad.\\n- CUIDADO!!!!!!\")"
      ],
      "metadata": {
        "colab": {
          "base_uri": "https://localhost:8080/"
        },
        "id": "hZkxvfAbRHyi",
        "outputId": "24e31c01-9c91-46f1-b73b-d56c8510dbe9"
      },
      "execution_count": 33,
      "outputs": [
        {
          "output_type": "stream",
          "name": "stdout",
          "text": [
            "Tenemos estos animales para escoger: \n",
            "pez payaso\n",
            "pulpo\n",
            "tiburon\n",
            "\n",
            "Ingrese el animal de su preferencia: tiburon\n",
            "El tiburon es otro animal salvaje, se encuentra en los oceanos y tiene un cuerpo alargado. \n",
            "- Tiene un esqueleto hecho de cartilagos, NO DE HUESOS. \n",
            "- Se alimentan de peces, moluscos y curstaceos. \n",
            "- Pueden a llegar a vivir entre 20 a 30 años de vida. \n",
            "- ¿Que hacer si uno se encuentra a un tiburon?\n",
            "  Debes tratar de mantener al animal a la vista y muy lenta y suavemente tratar de nadar hacia atrás y entrar en aguas poco profundas. Una vez más, debes tener cuidado pues los grandes tiburones pueden atacar en muy poca profundidad.\n",
            "- CUIDADO!!!!!!\n"
          ]
        }
      ]
    },
    {
      "cell_type": "markdown",
      "source": [
        "# Modulo 3"
      ],
      "metadata": {
        "id": "_bu_FOHIv-2c"
      }
    },
    {
      "cell_type": "markdown",
      "source": [
        "Ejercicio 5\n",
        "\n",
        "Escriba una función llamada make_album() que cree un diccionario que describa un álbum de música. La función debe tomar el nombre de un artista y el título de un álbum, y debe devolver un diccionario que contenga estos dos datos. Utilice la función para crear tres diccionarios que representen diferentes álbumes. Imprima cada valor devuelto para mostrar que los diccionarios están almacenando la información del álbum correctamente.\n",
        "\n",
        "Use None para agregar un parámetro opcional a make_album() que le permita almacenar la cantidad de canciones en un álbum. Si la línea de llamada incluye un valor para la cantidad de canciones, agregue ese valor al diccionario del álbum. Realice al menos una nueva llamada de función que incluya la cantidad de canciones en un álbum."
      ],
      "metadata": {
        "id": "cR7RhhZD2UTk"
      }
    },
    {
      "cell_type": "code",
      "source": [
        "def make_albun(a,b,c):\n",
        "    Dicc = {}\n",
        "    Dicc[\"Nombre Artista\"] = a\n",
        "    Dicc[\"Nombre Album\"] = b\n",
        "    if c!=None:\n",
        "        Dicc[\"Cantidad de canciones\"] = c\n",
        "    return Dicc\n",
        "\n",
        "A = make_albun(\"Bad Bunny\",\"Verano sin ti\",None)\n",
        "print(A)\n",
        "B = make_albun(\"Bad Bunny\",\"Las que no iban a salir\",10)\n",
        "print(B)"
      ],
      "metadata": {
        "id": "9YhiVAGU_ate",
        "outputId": "37fbf385-cf1a-45ce-eed7-fb2bb89adfa2",
        "colab": {
          "base_uri": "https://localhost:8080/"
        }
      },
      "execution_count": 88,
      "outputs": [
        {
          "output_type": "stream",
          "name": "stdout",
          "text": [
            "{'Nombre Artista': 'Bad Bunny', 'Nombre Album': 'Verano sin ti'}\n",
            "{'Nombre Artista': 'Bad Bunny', 'Nombre Album': 'Las que no iban a salir', 'Cantidad de canciones': 10}\n"
          ]
        }
      ]
    },
    {
      "cell_type": "markdown",
      "source": [
        "Ejercicio 6\n",
        "\n",
        "Comience con su programa del ejercicio anterior. Escriba un ciclo while que permita a los usuarios ingresar el artista y el título de un álbum. Una vez que tenga esa información, llame a make_album() con la entrada del usuario e imprima el diccionario que se crea. Asegúrese de incluir un valor de salida en el ciclo while."
      ],
      "metadata": {
        "id": "qjW03J3QAiFO"
      }
    },
    {
      "cell_type": "code",
      "source": [
        "def make_albun(a,b,c):\n",
        "    Dicc = {}\n",
        "    Dicc[\"Nombre Artista\"] = a\n",
        "    Dicc[\"Nombre Album\"] = b\n",
        "    if c!=None:\n",
        "        Dicc[\"Cantidad de canciones\"] = c\n",
        "    return Dicc\n",
        "    \n",
        "op = 0    \n",
        "while op!=1:\n",
        "    NomArt = input(\"Ingrese el nombre del artista: \")\n",
        "    NombAlb = input(\"Ingrese el nombre del Album}: \")\n",
        "    aux = make_albun(NomArt,NombAlb,None)\n",
        "    print(aux)\n",
        "    op = int(input(\"¿Desea Continuar? 0: Si - 1: No ->\"))\n",
        "print(\"SALIENDO DEL PROGRAMA\")"
      ],
      "metadata": {
        "id": "VqeuOCAvAjv-",
        "outputId": "d77e76aa-e74e-414f-881f-4d46445dca7e",
        "colab": {
          "base_uri": "https://localhost:8080/"
        }
      },
      "execution_count": 91,
      "outputs": [
        {
          "output_type": "stream",
          "name": "stdout",
          "text": [
            "Ingrese el nombre del artista: a\n",
            "Ingrese el nombre del Album: b\n",
            "{'Nombre Artista': 'a', 'Nombre Album': 'b'}\n",
            "¿Desea Continuar? 0: Si - 1: No ->1\n",
            "SALIENDO DEL PROGRAMA\n"
          ]
        }
      ]
    },
    {
      "cell_type": "markdown",
      "source": [
        "<b> Ejercicio 7</b>\n",
        "\n",
        "Haz una lista que contenga una serie de mensajes de texto cortos. Pase la lista a una función llamada **show_messages()**, que imprime cada mensaje de texto."
      ],
      "metadata": {
        "id": "Mq9UOYXxVPAR"
      }
    },
    {
      "cell_type": "code",
      "source": [
        "def show_messages(messages):\n",
        "  for message in messages:\n",
        "    print(f'\\n{message}')\n",
        "\n",
        "show_messages(['mensaje 1','mensaje 2','mensaje 3'])"
      ],
      "metadata": {
        "id": "ovWZjpI8VPwJ",
        "outputId": "d5fac94e-6c1a-4ebf-dc37-aa56bf0878f6",
        "colab": {
          "base_uri": "https://localhost:8080/"
        }
      },
      "execution_count": 104,
      "outputs": [
        {
          "output_type": "stream",
          "name": "stdout",
          "text": [
            "\n",
            "mensaje 1\n",
            "\n",
            "mensaje 2\n",
            "\n",
            "mensaje 3\n"
          ]
        }
      ]
    },
    {
      "cell_type": "markdown",
      "source": [
        "Ejercicio 8\n",
        "\n",
        "Comience con una copia de su programa del Ejercicio anterior. Escriba una función llamada send_messages() que imprima cada mensaje de texto y mueva cada mensaje a una nueva lista llamada sent_messages a medida que se imprime. Después de llamar a la función, imprima ambas listas para asegurarse de que los mensajes se movieron correctamente."
      ],
      "metadata": {
        "id": "-JDopOxkCdpY"
      }
    },
    {
      "cell_type": "code",
      "source": [
        "def send_messages(messages):\n",
        "  for message in messages:\n",
        "    print(f'{message}')\n",
        "send_messages(['China','Europe','Peru','Russia','Indonesia'])"
      ],
      "metadata": {
        "id": "Npz3uRFIhG7h",
        "outputId": "ebbd6ac9-9e2f-44cc-813c-7c54c996544a",
        "colab": {
          "base_uri": "https://localhost:8080/"
        }
      },
      "execution_count": 143,
      "outputs": [
        {
          "output_type": "stream",
          "name": "stdout",
          "text": [
            "China\n",
            "Europe\n",
            "Peru\n",
            "Russia\n",
            "Indonesia\n"
          ]
        }
      ]
    },
    {
      "cell_type": "code",
      "source": [
        "def sent_messages(messages):\n",
        "  for message in messages:\n",
        "    print(f'{messages}')\n",
        "sent_messages(['USA','United Kingdom','Philippines','Netherlands'])"
      ],
      "metadata": {
        "id": "c8OLtObHhsRv",
        "outputId": "6ee98ff3-c97b-49be-c65a-e94e2279beb4",
        "colab": {
          "base_uri": "https://localhost:8080/"
        }
      },
      "execution_count": 144,
      "outputs": [
        {
          "output_type": "stream",
          "name": "stdout",
          "text": [
            "['USA', 'United Kingdom', 'Philippines', 'Netherlands']\n",
            "['USA', 'United Kingdom', 'Philippines', 'Netherlands']\n",
            "['USA', 'United Kingdom', 'Philippines', 'Netherlands']\n",
            "['USA', 'United Kingdom', 'Philippines', 'Netherlands']\n"
          ]
        }
      ]
    },
    {
      "cell_type": "code",
      "source": [
        "send_messages = aux\n",
        "sent_messages = send_messages\n",
        "aux= send_messages"
      ],
      "metadata": {
        "id": "wJ-FPjW1hwR3"
      },
      "execution_count": 145,
      "outputs": []
    },
    {
      "cell_type": "code",
      "source": [
        "print(send_messages)"
      ],
      "metadata": {
        "id": "h2N8APePiDRm",
        "outputId": "8a5a9d52-6a07-473c-fb74-7dcca2991c72",
        "colab": {
          "base_uri": "https://localhost:8080/"
        }
      },
      "execution_count": 146,
      "outputs": [
        {
          "output_type": "stream",
          "name": "stdout",
          "text": [
            "['China', 'Europe', 'Peru', 'Russia', 'Indonesia', 'USA', 'United Kingdom', 'Philippines', 'Netherlands']\n"
          ]
        }
      ]
    },
    {
      "cell_type": "markdown",
      "source": [
        "Ejercicio 9\n",
        "\n",
        "Comience con su trabajo del Ejercicio anterior. Llame a la función send_messages() con una copia de la lista de mensajes. Después de llamar a la función, imprima ambas listas para mostrar que la lista original ha conservado sus mensajes."
      ],
      "metadata": {
        "id": "HawUSWVuChMd"
      }
    },
    {
      "cell_type": "code",
      "source": [
        "def send_messages(messages):\n",
        "  for message in messages:\n",
        "    print(f'{message}')\n",
        "send_messages(['China','Europe','Peru','Russia','Indonesia'])"
      ],
      "metadata": {
        "id": "Xoo4EJtKDfJO",
        "outputId": "855a7709-17f1-4ad6-85a6-751c87c86d2e",
        "colab": {
          "base_uri": "https://localhost:8080/"
        }
      },
      "execution_count": 148,
      "outputs": [
        {
          "output_type": "stream",
          "name": "stdout",
          "text": [
            "China\n",
            "Europe\n",
            "Peru\n",
            "Russia\n",
            "Indonesia\n"
          ]
        }
      ]
    },
    {
      "cell_type": "code",
      "source": [],
      "metadata": {
        "id": "vtZVNQI5i9Me"
      },
      "execution_count": null,
      "outputs": []
    },
    {
      "cell_type": "code",
      "source": [],
      "metadata": {
        "id": "X4gvdMtfi8-o"
      },
      "execution_count": null,
      "outputs": []
    },
    {
      "cell_type": "markdown",
      "source": [
        "Ejercicio 10\n",
        "\n",
        "Comience con una copia de user_profile de Uso de argumentos de palabras clave arbitrarias. Cree un perfil de usted mismo llamando a build_profile(), usando su nombre y apellido y otros tres pares clave-valor que lo describan."
      ],
      "metadata": {
        "id": "c7BUvRVzDfo0"
      }
    },
    {
      "cell_type": "code",
      "source": [],
      "metadata": {
        "id": "-gEmgT9QDe9-"
      },
      "execution_count": null,
      "outputs": []
    },
    {
      "cell_type": "markdown",
      "source": [
        "Ejercicio 11\n",
        "\n",
        "Escribe una función que almacene información sobre un automóvil en un diccionario. La función siempre debe recibir un fabricante y un nombre de modelo. Entonces debería aceptar un número arbitrario de argumentos de palabras clave. Llame a la función con la información requerida y otros dos pares de nombre y valor, como un color o una función opcional. Su función debería funcionar para una llamada como esta:\n",
        "\n",
        "coche = make_car('subaru', 'outback', color='blue', tow_package=True)\n",
        "\n",
        "Imprima el diccionario que se devuelve para asegurarse de que toda la información se almacenó correctamente."
      ],
      "metadata": {
        "id": "MaqOuABeDg7d"
      }
    },
    {
      "cell_type": "code",
      "source": [
        "my_dic = {}"
      ],
      "metadata": {
        "id": "77JQReLNDu3O"
      },
      "execution_count": null,
      "outputs": []
    },
    {
      "cell_type": "code",
      "source": [],
      "metadata": {
        "id": "AOZ62MGoDuoe"
      },
      "execution_count": null,
      "outputs": []
    },
    {
      "cell_type": "markdown",
      "source": [
        "Ejercicio 12\n",
        "\n",
        "Haz una clase llamada Usuario. Cree dos atributos llamados first_name y last_name, y luego cree varios otros atributos que normalmente se almacenan en un perfil de usuario. Cree un método llamado describe_user() que imprima un resumen de la información del usuario. Cree otro método llamado greeting_user() que imprima un saludo personalizado para el usuario.\n",
        "\n",
        "Cree varias instancias que representen a diferentes usuarios y llame a ambos métodos para cada usuario."
      ],
      "metadata": {
        "id": "gaqEszlADvNd"
      }
    },
    {
      "cell_type": "code",
      "source": [
        "class Usuario:\n",
        "    def _init_(self ,firt_name ,last_name, password):\n",
        "        self.firt_name = firt_name\n",
        "        self.last_name = last_name\n",
        "        self.password = password\n",
        "    def describe_user():\n",
        "        print(\"Firt Name: \"+self.firt_name)\n",
        "        print(\"Last Name: \"+self.last_name)\n",
        "        print(\"Password: \"+self.password)\n",
        "    def greeting_user():\n",
        "        print(\"Hola, te estoy saludando\")\n",
        "        \n",
        "U1 = Usuario(\"Gino\",\"Leon\",123)      \n",
        "U2 = Usuario(\"Maria\",\"Martinez\",124)    \n",
        "U1.describe_user()\n",
        "U1.greeting_user()\n",
        "U2.describe_user()\n",
        "U2.greeting_user()"
      ],
      "metadata": {
        "id": "LPu-HWOqGkBd",
        "outputId": "f3172154-5cf1-4b7e-cc7d-7f285cf65c14",
        "colab": {
          "base_uri": "https://localhost:8080/",
          "height": 235
        }
      },
      "execution_count": 103,
      "outputs": [
        {
          "output_type": "error",
          "ename": "TypeError",
          "evalue": "ignored",
          "traceback": [
            "\u001b[0;31m---------------------------------------------------------------------------\u001b[0m",
            "\u001b[0;31mTypeError\u001b[0m                                 Traceback (most recent call last)",
            "\u001b[0;32m<ipython-input-103-55cf4524d10e>\u001b[0m in \u001b[0;36m<module>\u001b[0;34m\u001b[0m\n\u001b[1;32m     11\u001b[0m         \u001b[0mprint\u001b[0m\u001b[0;34m(\u001b[0m\u001b[0;34m\"Hola, te estoy saludando\"\u001b[0m\u001b[0;34m)\u001b[0m\u001b[0;34m\u001b[0m\u001b[0;34m\u001b[0m\u001b[0m\n\u001b[1;32m     12\u001b[0m \u001b[0;34m\u001b[0m\u001b[0m\n\u001b[0;32m---> 13\u001b[0;31m \u001b[0mU1\u001b[0m \u001b[0;34m=\u001b[0m \u001b[0mUsuario\u001b[0m\u001b[0;34m(\u001b[0m\u001b[0;34m\"Gino\"\u001b[0m\u001b[0;34m,\u001b[0m\u001b[0;34m\"Leon\"\u001b[0m\u001b[0;34m,\u001b[0m\u001b[0;36m123\u001b[0m\u001b[0;34m)\u001b[0m\u001b[0;34m\u001b[0m\u001b[0;34m\u001b[0m\u001b[0m\n\u001b[0m\u001b[1;32m     14\u001b[0m \u001b[0mU2\u001b[0m \u001b[0;34m=\u001b[0m \u001b[0mUsuario\u001b[0m\u001b[0;34m(\u001b[0m\u001b[0;34m\"Maria\"\u001b[0m\u001b[0;34m,\u001b[0m\u001b[0;34m\"Martinez\"\u001b[0m\u001b[0;34m,\u001b[0m\u001b[0;36m124\u001b[0m\u001b[0;34m)\u001b[0m\u001b[0;34m\u001b[0m\u001b[0;34m\u001b[0m\u001b[0m\n\u001b[1;32m     15\u001b[0m \u001b[0mU1\u001b[0m\u001b[0;34m.\u001b[0m\u001b[0mdescribe_user\u001b[0m\u001b[0;34m(\u001b[0m\u001b[0;34m)\u001b[0m\u001b[0;34m\u001b[0m\u001b[0;34m\u001b[0m\u001b[0m\n",
            "\u001b[0;31mTypeError\u001b[0m: Usuario() takes no arguments"
          ]
        }
      ]
    },
    {
      "cell_type": "markdown",
      "source": [
        "# Modulo 4"
      ],
      "metadata": {
        "id": "y3wTXU8AgFVZ"
      }
    },
    {
      "cell_type": "markdown",
      "source": [
        "Ejercicio 13\n",
        "\n",
        "Use el tercer argumento de la función range() para hacer una lista de los números impares del 1 al 20. Use un bucle for para imprimir cada número."
      ],
      "metadata": {
        "id": "wamggx70giWa"
      }
    },
    {
      "cell_type": "code",
      "source": [
        "for i in range(1,21):\n",
        "\tif i%2!=0:\n",
        "\t\tprint(i)"
      ],
      "metadata": {
        "id": "Oybn0poqgk9R",
        "outputId": "936acd15-2782-47e8-8125-bbb4dd228748",
        "colab": {
          "base_uri": "https://localhost:8080/"
        }
      },
      "execution_count": 46,
      "outputs": [
        {
          "output_type": "stream",
          "name": "stdout",
          "text": [
            "1\n",
            "3\n",
            "5\n",
            "7\n",
            "9\n",
            "11\n",
            "13\n",
            "15\n",
            "17\n",
            "19\n"
          ]
        }
      ]
    },
    {
      "cell_type": "markdown",
      "source": [
        "Ejercicio 14\n",
        "\n",
        "Haga una lista de los múltiplos de 3 de 3 a 30. Use un ciclo for para imprimir los números en su lista."
      ],
      "metadata": {
        "id": "2Ag1YOZbglY5"
      }
    },
    {
      "cell_type": "code",
      "source": [
        "for i in range(3,31):\n",
        "\tif i%3==0:\n",
        "\t\tprint(i)"
      ],
      "metadata": {
        "id": "3yXV-8ENgpqz",
        "outputId": "b12ef870-8a51-4d6c-f29f-4fcecf010a36",
        "colab": {
          "base_uri": "https://localhost:8080/"
        }
      },
      "execution_count": 47,
      "outputs": [
        {
          "output_type": "stream",
          "name": "stdout",
          "text": [
            "3\n",
            "6\n",
            "9\n",
            "12\n",
            "15\n",
            "18\n",
            "21\n",
            "24\n",
            "27\n",
            "30\n"
          ]
        }
      ]
    },
    {
      "cell_type": "markdown",
      "source": [
        "Ejercicio 15\n",
        "\n",
        "Haga una lista de los primeros 10 cubos (es decir, el cubo de cada número entero del 1 al 10) y use un ciclo for para imprimir el valor de cada cubo."
      ],
      "metadata": {
        "id": "YZtD6xKijoj5"
      }
    },
    {
      "cell_type": "code",
      "source": [
        "my_list = [1,2,3,4,5,6,7,8,9,10]\n",
        "for x in my_list:\n",
        "\t\tprint(x**3)"
      ],
      "metadata": {
        "id": "NzyvAmZ1jmta",
        "outputId": "e6e365ae-3957-4b15-a4e5-adca49ab28bc",
        "colab": {
          "base_uri": "https://localhost:8080/"
        }
      },
      "execution_count": 51,
      "outputs": [
        {
          "output_type": "stream",
          "name": "stdout",
          "text": [
            "1\n",
            "8\n",
            "27\n",
            "64\n",
            "125\n",
            "216\n",
            "343\n",
            "512\n",
            "729\n",
            "1000\n"
          ]
        }
      ]
    },
    {
      "cell_type": "code",
      "source": [
        "squares = []\n",
        "\n",
        "for value in range(1, 11):\n",
        "    square = value ** 3\n",
        "    squares.append(square)\n",
        "    \n",
        "print(squares)"
      ],
      "metadata": {
        "id": "rAk-Z6-slX1w",
        "outputId": "45195c64-cfdd-4a31-f3f3-fc266adbe951",
        "colab": {
          "base_uri": "https://localhost:8080/"
        }
      },
      "execution_count": 52,
      "outputs": [
        {
          "output_type": "stream",
          "name": "stdout",
          "text": [
            "[1, 8, 27, 64, 125, 216, 343, 512, 729, 1000]\n"
          ]
        }
      ]
    },
    {
      "cell_type": "markdown",
      "source": [
        "Ejercicio 16\n",
        "\n",
        "Use una lista de comprensión para generar una lista de los primeros 10 cubos."
      ],
      "metadata": {
        "id": "yuI72VzGliQJ"
      }
    },
    {
      "cell_type": "code",
      "source": [
        "squares = [value**3 for value in range(1, 11)]\n",
        "print(squares)"
      ],
      "metadata": {
        "id": "1fXYxqFdlhyZ",
        "outputId": "2bc600c5-f9e5-4d6a-a8b9-e8d25b607b59",
        "colab": {
          "base_uri": "https://localhost:8080/"
        }
      },
      "execution_count": 53,
      "outputs": [
        {
          "output_type": "stream",
          "name": "stdout",
          "text": [
            "[1, 8, 27, 64, 125, 216, 343, 512, 729, 1000]\n"
          ]
        }
      ]
    },
    {
      "cell_type": "markdown",
      "source": [
        "<b> Ejercicio 17</b>\n",
        "\n",
        "Haga una copia de la lista de pizzas y llámela friend_pizzas. Luego, haz lo siguiente:\n",
        "\n",
        "* Agregue una nueva pizza a la lista original.\n",
        "* Agrega una pizza diferente a la lista friend_pizzas.\n",
        "* Demuestra que tienes dos listas separadas. Imprima el mensaje Mis pizzas favoritas son: y luego use un bucle for para imprimir la primera lista. Imprima el mensaje Las pizzas favoritas de mi amigo son: y luego use un bucle for para imprimir la segunda lista. Asegúrese de que cada pizza nueva se almacene en la lista adecuada."
      ],
      "metadata": {
        "id": "QPVrxvR1HfF-"
      }
    },
    {
      "cell_type": "code",
      "source": [
        "pizzas = [\"Americana\",\"Hawaiana\",\"Pepperoni\"]\n",
        "friend_pizzas = [\"Americana\",\"Hawaiana\",\"Pepperoni\"]"
      ],
      "metadata": {
        "id": "C1BARsuyHepM"
      },
      "execution_count": 115,
      "outputs": []
    },
    {
      "cell_type": "code",
      "source": [
        "friend_pizzas.append(\"Cuatro quesos\")\n"
      ],
      "metadata": {
        "id": "gJSd8E5HJWIl"
      },
      "execution_count": 116,
      "outputs": []
    },
    {
      "cell_type": "code",
      "source": [
        "print(\"Las pizzas que tenemos son: \")\n",
        "print(friend_pizzas)"
      ],
      "metadata": {
        "id": "JIjTfjbGJU1W",
        "outputId": "dbf3beef-e3e4-4143-a533-2c522b37e5d8",
        "colab": {
          "base_uri": "https://localhost:8080/"
        }
      },
      "execution_count": 117,
      "outputs": [
        {
          "output_type": "stream",
          "name": "stdout",
          "text": [
            "Las pizzas que tenemos son: \n",
            "['Americana', 'Hawaiana', 'Pepperoni', 'Cuatro quesos']\n"
          ]
        }
      ]
    },
    {
      "cell_type": "code",
      "source": [
        "print(\"Mis pizzas favoritas son: \")\n",
        "for pizza in pizzas:\n",
        "  print(pizza)"
      ],
      "metadata": {
        "id": "QUIsaJeXJV4u",
        "outputId": "bd51c6f0-5fc1-4004-fef5-ccb5ddb7e024",
        "colab": {
          "base_uri": "https://localhost:8080/"
        }
      },
      "execution_count": 118,
      "outputs": [
        {
          "output_type": "stream",
          "name": "stdout",
          "text": [
            "Mis pizzas favoritas son: \n",
            "Americana\n",
            "Hawaiana\n",
            "Pepperoni\n"
          ]
        }
      ]
    },
    {
      "cell_type": "code",
      "source": [
        "print(\"Las pizzas favoritas de mi amigo son: \")\n",
        "for pizza in friend_pizzas:\n",
        "  print(pizza)"
      ],
      "metadata": {
        "id": "uR_e1O_LbbUb",
        "outputId": "390b8904-5778-4f65-b31a-f5db1cc5ba22",
        "colab": {
          "base_uri": "https://localhost:8080/"
        }
      },
      "execution_count": 120,
      "outputs": [
        {
          "output_type": "stream",
          "name": "stdout",
          "text": [
            "Las pizzas favoritas de mi amigo son: \n",
            "Americana\n",
            "Hawaiana\n",
            "Pepperoni\n",
            "Cuatro quesos\n"
          ]
        }
      ]
    },
    {
      "cell_type": "markdown",
      "source": [
        "Ejercicio 18\n",
        "\n",
        "Use un diccionario para almacenar los números favoritos de las personas. Piensa en cinco nombres y utilízalos como llaves en tu diccionario. Piense en un número favorito para cada persona y guárdelo como un valor en su diccionario. Escriba el nombre de cada persona y su número favorito."
      ],
      "metadata": {
        "id": "u38jK2sQpQ2N"
      }
    },
    {
      "cell_type": "code",
      "source": [
        "print(\"Tenemos estas personas para saber su numero favorito: \")\n",
        "my_list = [\"Renzo\",\"Juan\",\"Pablo\",\"Lulu\",\"Jessi\"]\n",
        "for i in my_list:\n",
        "  print (i)\n",
        "my_dict = {'Renzo' : 'Su numero favorito es el 15' ,\n",
        "           'Juan' : 'Su numero favorito es el 21' , \n",
        "           'Pablo' : 'Su numero favorito es el 23' , \n",
        "           'Lulu' : 'Su numero favorito es el 5' ,\n",
        "           'Jessi' : 'Su numero favorito es el 7'}\n",
        "while True:\n",
        "  a = input('\\nEscriba el nombre de la persona de la cual quiere saber su numero favorito o escriba quit (para ya no preguntar): \\n')\n",
        "  if a == 'quit':\n",
        "    break\n",
        "  else:\n",
        "    print(f'{a} : {my_dict[a]}')"
      ],
      "metadata": {
        "id": "CyepIMm5pQRw",
        "outputId": "44169e98-af2a-4a7c-c310-24ed5e051e05",
        "colab": {
          "base_uri": "https://localhost:8080/"
        }
      },
      "execution_count": 68,
      "outputs": [
        {
          "name": "stdout",
          "output_type": "stream",
          "text": [
            "Tenemos estas personas para saber su numero favorito: \n",
            "Renzo\n",
            "Juan\n",
            "Pablo\n",
            "Lulu\n",
            "Jessi\n",
            "\n",
            "Escriba el nombre de la persona de la cual quiere saber su numero favorito o escriba quit (para ya no preguntar): \n",
            "Renzo\n",
            "Renzo : Su numero favorito es el 15\n",
            "\n",
            "Escriba el nombre de la persona de la cual quiere saber su numero favorito o escriba quit (para ya no preguntar): \n",
            "quit\n"
          ]
        }
      ]
    },
    {
      "cell_type": "markdown",
      "source": [
        "Ejercicio 19\n",
        "\n",
        "Piense en cinco palabras de programación que haya aprendido. Utilice estas palabras como llaves en su glosario y almacene sus significados como valores.\n",
        "\n",
        "Imprima cada palabra y su significado como una salida con un formato ordenado. Puede imprimir la palabra seguida de dos puntos y luego su significado, o imprimir la palabra en una línea y luego imprimir su significado con sangría en una segunda línea. Utilice el carácter de nueva línea (\\n) para insertar una línea en blanco entre cada par de palabra y significado en su salida."
      ],
      "metadata": {
        "id": "8DRX0S3ivvbX"
      }
    },
    {
      "cell_type": "code",
      "source": [
        "print(\"Estas son las palabras que se han aprendido: \")\n",
        "my_list = [\"- hosting\",\"- scrum\",\"- framework\",\"- codigo\",\"- software\"]\n",
        "for i in my_list:\n",
        "  print (i)\n",
        "print(\"----------\")\n",
        "my_dict = {'hosting' : 'Es un servicio de alojamiento para páginas web bajo un servidor.' ,\n",
        "           'scrum' : 'Es un marco de trabajo para desarrollo ágil de software que se ha expandido a otras industrias.' , \n",
        "           'framework' : 'Es un marco de trabajo que tiene como objetivo facilitar la solución de problemas que pueden surgir al programar.' , \n",
        "           'codigo' : 'Son las instrucciones que escribe un programador en un lenguaje de programación.' ,\n",
        "           'software' : 'Es cualquier programa de computadora. Una aplicación móvil, un sistema operativo, una página web, un programa de escritorio, todo eso se le conoce como software.'}\n",
        "for x, y in my_dict.items():\n",
        "  print({f'El {x} : {y}'})"
      ],
      "metadata": {
        "id": "T3q7alZNJW0H",
        "outputId": "18f787e7-379a-4841-8cf0-57f800dd82e3",
        "colab": {
          "base_uri": "https://localhost:8080/"
        }
      },
      "execution_count": 85,
      "outputs": [
        {
          "output_type": "stream",
          "name": "stdout",
          "text": [
            "Estas son las palabras que se han aprendido: \n",
            "- hosting\n",
            "- scrum\n",
            "- framework\n",
            "- codigo\n",
            "- software\n",
            "----------\n",
            "{'El hosting : Es un servicio de alojamiento para páginas web bajo un servidor.'}\n",
            "{'El scrum : Es un marco de trabajo para desarrollo ágil de software que se ha expandido a otras industrias.'}\n",
            "{'El framework : Es un marco de trabajo que tiene como objetivo facilitar la solución de problemas que pueden surgir al programar.'}\n",
            "{'El codigo : Son las instrucciones que escribe un programador en un lenguaje de programación.'}\n",
            "{'El software : Es cualquier programa de computadora. Una aplicación móvil, un sistema operativo, una página web, un programa de escritorio, todo eso se le conoce como software.'}\n"
          ]
        }
      ]
    },
    {
      "cell_type": "markdown",
      "source": [
        "<b> Ejercicio 20</b>\n",
        "\n",
        "Haga un diccionario que contenga tres ríos principales y el país por el que pasa cada río. Un par clave-valor podría ser 'nilo': 'egipto'.\n",
        "\n",
        "* Use un bucle para imprimir una oración sobre cada río, como El Nilo atraviesa Egipto.\n",
        "* Utilice un bucle para imprimir el nombre de cada río incluido en el diccionario.\n",
        "* Use un bucle para imprimir el nombre de cada país incluido en el diccionario."
      ],
      "metadata": {
        "id": "hKPQm03J8aIo"
      }
    },
    {
      "cell_type": "code",
      "source": [
        "Rios = {\"Nilo\":\"Egipto\" , \"Amazonas\":\"Peru\" , \"Misisipi\":\"EEUU\"}\n",
        "\n",
        "for i in Rios:\n",
        "    print(\"El \"+i+\" atraviesa \"+Rios[i])\n",
        "print(\"RIOS: \")    \n",
        "for i in Rios:\n",
        "    print(i)\n",
        "print(\"PAISES: \")    \n",
        "for i in Rios:\n",
        "    print(Rios[i])"
      ],
      "metadata": {
        "id": "YaV4UVL_Azs0",
        "outputId": "2e287538-4b4b-4a42-9981-cfd5ceba499d",
        "colab": {
          "base_uri": "https://localhost:8080/"
        }
      },
      "execution_count": 92,
      "outputs": [
        {
          "output_type": "stream",
          "name": "stdout",
          "text": [
            "El Nilo atraviesa Egipto\n",
            "El Amazonas atraviesa Peru\n",
            "El Misisipi atraviesa EEUU\n",
            "RIOS: \n",
            "Nilo\n",
            "Amazonas\n",
            "Misisipi\n",
            "PAISES: \n",
            "Egipto\n",
            "Peru\n",
            "EEUU\n"
          ]
        }
      ]
    },
    {
      "cell_type": "markdown",
      "source": [
        "Ejercicio 21\n",
        "\n",
        "Haz una lista de las personas que deberían participar en la encuesta de idiomas favoritos. Incluye algunos nombres que ya estén en el diccionario y otros que no. Recorra la lista de personas que deberían realizar la encuesta. Si ya han realizado la encuesta, imprima un mensaje agradeciéndoles por responder. Si aún no han realizado la encuesta, imprima un mensaje invitándoles a realizar la encuesta."
      ],
      "metadata": {
        "id": "LwiZR3IOJYTG"
      }
    },
    {
      "cell_type": "code",
      "source": [
        "favorite_languages = {\n",
        "    'Renzo': 'python',\n",
        "    'Juan': 'c++',\n",
        "    'Pablo': 'ruby',\n",
        "    'Terry': 'python',\n",
        "    }\n",
        "my_list={'Juan','Terry'}\n",
        "\n",
        "  print(f\"{favorite_languages[0]} ya realizo la encuesta\")"
      ],
      "metadata": {
        "id": "8KmikjaPKYL4",
        "outputId": "4a00aeec-5709-4523-e880-ab881a1a7d02",
        "colab": {
          "base_uri": "https://localhost:8080/",
          "height": 130
        }
      },
      "execution_count": 151,
      "outputs": [
        {
          "output_type": "error",
          "ename": "IndentationError",
          "evalue": "ignored",
          "traceback": [
            "\u001b[0;36m  File \u001b[0;32m\"<ipython-input-151-5713877517ea>\"\u001b[0;36m, line \u001b[0;32m9\u001b[0m\n\u001b[0;31m    print(f\"{favorite_languages[0]} ya realizo la encuesta\")\u001b[0m\n\u001b[0m    ^\u001b[0m\n\u001b[0;31mIndentationError\u001b[0m\u001b[0;31m:\u001b[0m unexpected indent\n"
          ]
        }
      ]
    },
    {
      "cell_type": "code",
      "source": [],
      "metadata": {
        "id": "VCMgBzP6KYER"
      },
      "execution_count": null,
      "outputs": []
    },
    {
      "cell_type": "markdown",
      "source": [
        "Ejercicio 22\n",
        "\n",
        "Cree tres nuevos diccionarios que representen a diferentes personas y almacene los tres diccionarios en una lista llamada personas. Recorra su lista de personas. Mientras recorre la lista, imprima todo lo que sabe sobre cada persona."
      ],
      "metadata": {
        "id": "XGyYmQeAFC8d"
      }
    },
    {
      "cell_type": "code",
      "source": [
        "Per1 = {\"Nombre\":\"Juan\",\"Edad\":20}\n",
        "Per2 = {\"Nombre\":\"Ramiro\",\"Edad\":31}\n",
        "Per3 = {\"Nombre\":\"Pedro\",\"Edad\":25}\n",
        "personas = [Per1,Per2,Per3]\n",
        "for i in personas:\n",
        "    print(\"Nombre: \",i[\"Nombre\"])\n",
        "    print(\"Edad: \",i[\"Edad\"])"
      ],
      "metadata": {
        "id": "TneLbfMCKX41",
        "outputId": "3e6a999e-1ebf-40e1-a668-da8a72440090",
        "colab": {
          "base_uri": "https://localhost:8080/"
        }
      },
      "execution_count": 93,
      "outputs": [
        {
          "output_type": "stream",
          "name": "stdout",
          "text": [
            "Nombre:  Juan\n",
            "Edad:  20\n",
            "Nombre:  Ramiro\n",
            "Edad:  31\n",
            "Nombre:  Pedro\n",
            "Edad:  25\n"
          ]
        }
      ]
    },
    {
      "cell_type": "markdown",
      "source": [
        "Ejercicio 23\n",
        "\n",
        "Haga varios diccionarios, donde cada diccionario represente una mascota diferente. En cada diccionario, incluya el tipo de animal y el nombre del dueño. Guarde estos diccionarios en una lista llamada mascotas. A continuación, recorra su lista y, mientras lo hace, imprima todo lo que sepa sobre cada mascota."
      ],
      "metadata": {
        "id": "aNy8pyG3FSDL"
      }
    },
    {
      "cell_type": "code",
      "source": [
        "Mascota1 = {\"Tipo\":\"Perro\",\"Dueño\":\"Mateo\"}\n",
        "Mascota2 = {\"Tipo\":\"Gato\",\"Dueño\":\"Lucas\"}\n",
        "Mascota3 = {\"Tipo\":\"Conejo\",\"Dueño\":\"Juan\"}\n",
        "mascotas = [Mascota1,Mascota2,Mascota3]\n",
        "for i in mascotas:\n",
        "    print(\"Tipo: \",i[\"Tipo\"])\n",
        "    print(\"Dueño: \",i[\"Dueño\"])"
      ],
      "metadata": {
        "id": "mRGEVLxNFTHc",
        "outputId": "5d738dd6-dda2-4376-86a1-4b4a856e7ba3",
        "colab": {
          "base_uri": "https://localhost:8080/"
        }
      },
      "execution_count": 94,
      "outputs": [
        {
          "output_type": "stream",
          "name": "stdout",
          "text": [
            "Tipo:  Perro\n",
            "Dueño:  Mateo\n",
            "Tipo:  Gato\n",
            "Dueño:  Lucas\n",
            "Tipo:  Conejo\n",
            "Dueño:  Juan\n"
          ]
        }
      ]
    },
    {
      "cell_type": "markdown",
      "source": [
        "Ejercicio 24\n",
        "\n",
        "Haga un diccionario llamado lugares_favoritos. Piense en tres nombres para usar como llaves en el diccionario y almacene de uno a tres lugares favoritos para cada persona. Recorre el diccionario e imprime el nombre de cada persona y sus lugares favoritos."
      ],
      "metadata": {
        "id": "VIEOkfsUFgXM"
      }
    },
    {
      "cell_type": "code",
      "source": [
        "lugares_favoritos = {\"Pedro\":\"Playa\",\"Juan\":\"Piscina\",\"Diana\":\"Parque\"}\n",
        "for i in lugares_favoritos:\n",
        "    print(\"Nombre: \"+i)\n",
        "    print(\"Lugar Favorito: \",lugares_favoritos[i])"
      ],
      "metadata": {
        "id": "brMmxcqEFjgx",
        "outputId": "1b7ba455-712d-4437-bb53-f6b5a7eecca9",
        "colab": {
          "base_uri": "https://localhost:8080/"
        }
      },
      "execution_count": 95,
      "outputs": [
        {
          "output_type": "stream",
          "name": "stdout",
          "text": [
            "Nombre: Pedro\n",
            "Lugar Favorito:  Playa\n",
            "Nombre: Juan\n",
            "Lugar Favorito:  Piscina\n",
            "Nombre: Diana\n",
            "Lugar Favorito:  Parque\n"
          ]
        }
      ]
    },
    {
      "cell_type": "markdown",
      "source": [
        "Ejercicio 25\n",
        "\n",
        "Haz un diccionario llamado ciudades. Usa los nombres de tres ciudades como llaves en tu diccionario. Cree un diccionario de información sobre cada ciudad e incluya el país en el que se encuentra la ciudad, su población aproximada y un dato sobre esa ciudad. Las claves para el diccionario de cada ciudad deben ser algo como país, población y hecho. Imprime el nombre de cada ciudad y toda la información que tengas almacenada sobre ella."
      ],
      "metadata": {
        "id": "HrQMsjg-GF4W"
      }
    },
    {
      "cell_type": "code",
      "source": [
        "Dicc1 = {\"Pais\":\"Peru\",\"Poblacion\":128637,\"Dato\":\"Capital folclórica\"}\n",
        "Dicc2 = {\"Pais\":\"Peru\",\"Poblacion\":1008000,\"Dato\":\"Ciudad blanca\"}\n",
        "Dicc3 = {\"Pais\":\"Argentina\",\"Poblacion\":2890151,\"Dato\":\"Museo Malba\"}\n",
        "ciudades = {\"Puno\":Dicc1,\"Arequipa\":Dicc2,\"Buenos Aires\":Dicc3}\n",
        "for i in ciudades:\n",
        "    print(\"Ciudad: \"+i)\n",
        "    print(ciudades[i])"
      ],
      "metadata": {
        "id": "KAQvs4CzGI0c",
        "outputId": "3d6f59ed-b6f3-4c83-d8f2-3cb1830ceaf4",
        "colab": {
          "base_uri": "https://localhost:8080/"
        }
      },
      "execution_count": 96,
      "outputs": [
        {
          "output_type": "stream",
          "name": "stdout",
          "text": [
            "Ciudad: Puno\n",
            "{'Pais': 'Peru', 'Poblacion': 128637, 'Dato': 'Capital folclórica'}\n",
            "Ciudad: Arequipa\n",
            "{'Pais': 'Peru', 'Poblacion': 1008000, 'Dato': 'Ciudad blanca'}\n",
            "Ciudad: Buenos Aires\n",
            "{'Pais': 'Argentina', 'Poblacion': 2890151, 'Dato': 'Museo Malba'}\n"
          ]
        }
      ]
    },
    {
      "cell_type": "markdown",
      "source": [
        "Ejercicio 26\n",
        "\n",
        "Ahora estamos trabajando con ejemplos que son lo suficientemente complejos como para que puedan extenderse de varias maneras. Utilice uno de los programas de este laboratorio y amplíelo agregando nuevas claves y valores, cambiando el contexto del programa o mejorando el formato de la salida."
      ],
      "metadata": {
        "id": "tIScrFKFKY7F"
      }
    },
    {
      "cell_type": "code",
      "source": [
        "\"\"\" Se nos mostrara lo que la gente escoge como lugar turistico su porcentaje y la cantidad de representacion de cada pais\"\"\"\n",
        "print(\"Algunos lugares turisticos donde las personas deciden viajar\")\n",
        "lugares = {\n",
        "\" Muralla china \": \"China\" ,\n",
        "\" Torre eiffel \": \"Francia\" ,\n",
        "\" Lineas de Nazca \": \"Peru\" ,\n",
        "\" Machu picchu \": \"Peru\" ,\n",
        "\" Catedral de san basilio \": \"Russia\" ,\n",
        "\" Templo de tanah lot \": \"Indonesia\" ,\n",
        "\" Guerreros de terracota \": \"China\" ,\n",
        "\" Estatua de la libertad \": \"USA\" ,\n",
        "\" Torre de londres \": \"United Kingdom\" ,\n",
        "\" Museo de louvre \": \"Francia\" ,\n",
        "\" Golden gate bridge \": \"USA\" ,\n",
        "\" Parque rizal \": \"Philippines\" ,\n",
        "\" Kremlin de moscu \": \"Russia\" ,\n",
        "\" Cañon del colca \": \"Peru\" ,\n",
        "\" La ciudad prohibida \": \"China\" ,\n",
        "\" Parque nacional de yellowstone \": \"USA\" ,\n",
        "\" Iglesia san agustin \": \"Philippines\" ,\n",
        "\" Catedral de notre dame \": \"Francia\" ,\n",
        "\" Los campos de eliseos \": \"Francia\" ,\n",
        "\" Amsterdam \": \"Netherlands\"\n",
        "}\n",
        "\n",
        "L = []\n",
        "aux = []\n",
        "for i in lugares:\n",
        "   L.append(lugares[i])\n",
        "print(\"PAIS               CANTIDAD              %\")   \n",
        "for i in L:\n",
        "    cont = 0\n",
        "    flag = 0\n",
        "    if len(aux)==0:\n",
        "        for j in L:\n",
        "            if j==i:\n",
        "                cont = cont + 1\n",
        "        aux.append(i)\n",
        "        print(i,\"               \",cont,\"               \",(cont*100)/20)\n",
        "    else:\n",
        "        for w in aux:    \n",
        "            if w==i:\n",
        "                flag = 1\n",
        "        if flag!=1:\n",
        "              for j in L:\n",
        "                  if j==i:\n",
        "                      cont = cont + 1\n",
        "              aux.append(i)\n",
        "              print(i,\"              \",cont,\"              \",(cont*100)/20)      \n",
        "pal = input(\"Ingresar pais: \")\n",
        "for i in lugares:\n",
        "    if pal==lugares[i]:\n",
        "        print(i)"
      ],
      "metadata": {
        "id": "sQhh0vVgGJHL",
        "outputId": "b879842e-257a-4517-8d46-7eb1cc14231b",
        "colab": {
          "base_uri": "https://localhost:8080/"
        }
      },
      "execution_count": 153,
      "outputs": [
        {
          "output_type": "stream",
          "name": "stdout",
          "text": [
            "Algunos lugares turisticos donde las personas deciden viajar\n",
            "PAIS               CANTIDAD              %\n",
            "China                 3                 15.0\n",
            "Francia                4                20.0\n",
            "Peru                3                15.0\n",
            "Russia                2                10.0\n",
            "Indonesia                1                5.0\n",
            "USA                3                15.0\n",
            "United Kingdom                1                5.0\n",
            "Philippines                2                10.0\n",
            "Netherlands                1                5.0\n",
            "Ingresar pais: Peru\n",
            " Lineas de Nazca \n",
            " Machu picchu \n",
            " Cañon del colca \n"
          ]
        }
      ]
    }
  ]
}