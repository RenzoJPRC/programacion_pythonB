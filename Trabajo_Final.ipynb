{
  "nbformat": 4,
  "nbformat_minor": 0,
  "metadata": {
    "colab": {
      "provenance": [],
      "authorship_tag": "ABX9TyOr6cDxz4PlsMNG7o2CJwS/",
      "include_colab_link": true
    },
    "kernelspec": {
      "name": "python3",
      "display_name": "Python 3"
    },
    "language_info": {
      "name": "python"
    }
  },
  "cells": [
    {
      "cell_type": "markdown",
      "metadata": {
        "id": "view-in-github",
        "colab_type": "text"
      },
      "source": [
        "<a href=\"https://colab.research.google.com/github/RenzoJPRC/programacion_pythonB/blob/main/Trabajo_Final.ipynb\" target=\"_parent\"><img src=\"https://colab.research.google.com/assets/colab-badge.svg\" alt=\"Open In Colab\"/></a>"
      ]
    },
    {
      "cell_type": "markdown",
      "source": [
        "# Modulo 2"
      ],
      "metadata": {
        "id": "5CkJfQv7RQlE"
      }
    },
    {
      "cell_type": "markdown",
      "source": [
        "Ejercicio 1\n",
        "\n",
        "Escriba un ciclo que solicite al usuario que ingrese una serie de ingredientes para la pizza hasta que ingrese un valor de 'salir'. A medida que ingresen cada ingrediente, imprima un mensaje que diga que agregará ese ingrediente a su pizza."
      ],
      "metadata": {
        "id": "3yE58kagGHz0"
      }
    },
    {
      "cell_type": "code",
      "source": [
        "#####Pedimos que nos ingrese un ingrediente\n",
        "ingrediente = \"Ingrese el ingrediente que quiere añadir a su pizza: \"\n",
        "ingrediente += \"\\nEscribe 'salir' para finalizar.\"\n",
        "\n",
        "message = \"\"\n",
        "while message != 'salir':\n",
        "  message = input(ingrediente)\n",
        "  print(f'Usted agregara {message} a su pizza.\\n')"
      ],
      "metadata": {
        "id": "6QI0X-wCV6Tw",
        "outputId": "7c9c4b56-e18a-4f89-da9d-3b37214b55e9",
        "colab": {
          "base_uri": "https://localhost:8080/"
        }
      },
      "execution_count": 12,
      "outputs": [
        {
          "output_type": "stream",
          "name": "stdout",
          "text": [
            "Ingrese el ingrediente que quiere añadir a su pizza: \n",
            "Escribe 'salir' para finalizar.tomate\n",
            "Usted agregara tomate a su pizza.\n",
            "\n",
            "Ingrese el ingrediente que quiere añadir a su pizza: \n",
            "Escribe 'salir' para finalizar.queso\n",
            "Usted agregara queso a su pizza.\n",
            "\n",
            "Ingrese el ingrediente que quiere añadir a su pizza: \n",
            "Escribe 'salir' para finalizar.salir\n",
            "Usted agregara salir a su pizza.\n",
            "\n"
          ]
        }
      ]
    },
    {
      "cell_type": "markdown",
      "source": [
        "Ejercicio 2\n",
        "\n",
        "Un cine cobra diferentes precios de boletos dependiendo de la edad de una persona. Si una persona es menor de 3 años, la entrada es gratuita; si son entre 3 y 12, el boleto cuesta s/. 10; y si son mayores de 12 años, el boleto cuesta s/. 15. Escriba un ciclo en el que pregunte a los usuarios su edad y luego dígales el costo de su boleto de cine."
      ],
      "metadata": {
        "id": "1bgB1wmUGJ_T"
      }
    },
    {
      "cell_type": "code",
      "source": [
        "##### Precio de las entradas para un cine\n",
        "print(\"Bienvenido a CinePeru!!!! \\nDe acuerdo a su edad le dire el costo de su entrada\")\n",
        "edad = int(input(\"Cuantos años tienes: \"))\n",
        "if edad > 12:\n",
        "  print(f\"El costo de su entrada es de S/15.00; ya que usted tiene {edad} años.\")\n",
        "elif (edad <= 12) and (edad >=3):\n",
        "  print(\"El costo de su entrada es de S/10.00.\")\n",
        "elif edad<3:\n",
        "    print(\"Hola; usted puede entrar gratuitamente.\")\n",
        "print(\"Gracias por su preferencia y disfrute de la pelicula.\")"
      ],
      "metadata": {
        "id": "RTQJ07OcRPDR",
        "outputId": "dcd810cf-b7f8-485f-e7e7-ee84836666b8",
        "colab": {
          "base_uri": "https://localhost:8080/"
        }
      },
      "execution_count": 16,
      "outputs": [
        {
          "output_type": "stream",
          "name": "stdout",
          "text": [
            "Bienvenido a CinePeru!!!! \n",
            "De acuerdo a su edad le dire el costo de su entrada\n",
            "Cuantos años tienes: 11\n",
            "El costo de su entrada es de S/10.00.\n",
            "Gracias por su preferencia y disfrute de la pelicula.\n"
          ]
        }
      ]
    },
    {
      "cell_type": "code",
      "source": [],
      "metadata": {
        "id": "ZQ11N6DWZlc3"
      },
      "execution_count": null,
      "outputs": []
    },
    {
      "cell_type": "markdown",
      "source": [
        "########En el modulo 2 hay otros dos ejercicios al final 1 y 2.\n",
        "\n",
        "Ejercicio 3\n",
        "\n",
        "Piensa en al menos tres tipos de tu pizza favorita. Almacene estos nombres de pizza en una lista y luego use un ciclo for para imprimir el nombre de cada pizza.\n",
        "\n",
        "Modifique su ciclo for para imprimir una oración usando el nombre de la pizza en lugar de imprimir solo el nombre de la pizza. Para cada pizza, debe tener una línea de salida que contenga una declaración simple como Me gusta la pizza de pepperoni. Agregue una línea al final de su programa, fuera del bucle for, que indique cuánto le gusta la pizza. El resultado debe constar de tres o más líneas sobre los tipos de pizza que te gustan y luego una oración adicional, como ¡Me encanta la pizza!"
      ],
      "metadata": {
        "id": "EgtvL2faRIGB"
      }
    },
    {
      "cell_type": "code",
      "source": [],
      "metadata": {
        "id": "R61pHSbrZ2KK"
      },
      "execution_count": null,
      "outputs": []
    },
    {
      "cell_type": "markdown",
      "source": [
        "Ejercicio 2\n",
        "\n",
        "Piensa en al menos tres animales diferentes que tengan una característica común. Guarde los nombres de estos animales en una lista y luego use un ciclo for para imprimir el nombre de cada animal.\n",
        "\n",
        "Modifique su programa para imprimir una declaración sobre cada animal, como Un perro sería una gran mascota. Agregue una línea al final de su programa indicando lo que estos animales tienen en común. Podría escribir una oración como ¡Cualquiera de estos animales sería una gran mascota!"
      ],
      "metadata": {
        "id": "-cslj4XQRI5x"
      }
    },
    {
      "cell_type": "code",
      "source": [
        "print(\"Tenemos estos animales para escoger: \")\n",
        "my_list = [\"gato\",\"leon\",\"pantera\"]\n",
        "for i in my_list:\n",
        "  print (i)\n",
        "\n",
        "like = input(\"\\nIngrese el animal de su preferencia: \")\n",
        "if like == \"gato\":\n",
        "  print(f\"El {like} es de los animales mas facil de criar, ya que se la pasan durmiendo entre 12 a 18 horas al dia!!!! \\n- solo usted les da de comer y limpiar su caja de arena interdiario y jugar con ellos.\\n\")\n",
        "elif like == \"leon\":\n",
        "  print(f\"El {like} es un animal salvaje; no se recomineda tenerlos como mascota \\n- Aunque hay reportes de algunas personas crian a estos animales como mascota, pero la verdad si usted piensa criar uno lo pensaria dos veces.\\n- Pueden llegar a comer entre 10kg a 40kg de carne en un dia y un leon macho puede llegar a pesar 190kg.\")\n",
        "elif like == \"pantera\":\n",
        "  print(f\"piensa\")"
      ],
      "metadata": {
        "id": "hZkxvfAbRHyi",
        "outputId": "43b42ae1-f5bf-4261-bef7-fb75e5812dab",
        "colab": {
          "base_uri": "https://localhost:8080/"
        }
      },
      "execution_count": 23,
      "outputs": [
        {
          "output_type": "stream",
          "name": "stdout",
          "text": [
            "Tenemos estos animales para escoger: \n",
            "gato\n",
            "leon\n",
            "pantera\n",
            "\n",
            "Ingrese el animal de su preferencia: leon\n",
            "El leon es un animal salvaje; no se recomineda tenerlos como mascota \n",
            "- Aunque hay reportes de algunas personas crian a estos animales como mascota, pero la verdad si usted piensa criar uno lo pensaria dos veces.\n",
            "- Pueden llegar a comer entre 10kg a 40kg de carne en un dia y un leon macho puede llegar a pesar 190kg.\n"
          ]
        }
      ]
    },
    {
      "cell_type": "code",
      "source": [],
      "metadata": {
        "id": "s9XvkYlvGKtX"
      },
      "execution_count": null,
      "outputs": []
    }
  ]
}